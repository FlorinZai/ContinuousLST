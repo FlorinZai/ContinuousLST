{
  "nbformat": 4,
  "nbformat_minor": 0,
  "metadata": {
    "colab": {
      "name": "ContLST GeoTIFF to  NETCDF.ipynb",
      "provenance": [],
      "collapsed_sections": [],
      "include_colab_link": true
    },
    "kernelspec": {
      "name": "python3",
      "display_name": "Python 3"
    }
  },
  "cells": [
    {
      "cell_type": "markdown",
      "metadata": {
        "id": "view-in-github",
        "colab_type": "text"
      },
      "source": [
        "<a href=\"https://colab.research.google.com/github/shilosh/ContinuousLST/blob/master/ContLST_GeoTIFF_to_NETCDF.ipynb\" target=\"_parent\"><img src=\"https://colab.research.google.com/assets/colab-badge.svg\" alt=\"Open In Colab\"/></a>"
      ]
    },
    {
      "cell_type": "markdown",
      "metadata": {
        "id": "5H9HKrXTguow",
        "colab_type": "text"
      },
      "source": [
        "# Convert tiff to NetCDF using xarray:"
      ]
    },
    {
      "cell_type": "markdown",
      "metadata": {
        "id": "Zgp9IXPeRuZ9",
        "colab_type": "text"
      },
      "source": [
        "connecting gdrive into the google colab"
      ]
    },
    {
      "cell_type": "code",
      "metadata": {
        "id": "ikvXSppfQLi_",
        "colab_type": "code",
        "colab": {}
      },
      "source": [
        "from google.colab import drive\n",
        "drive.mount('/content/gdrive')"
      ],
      "execution_count": null,
      "outputs": []
    },
    {
      "cell_type": "markdown",
      "metadata": {
        "id": "OYYpZIY8R-Re",
        "colab_type": "text"
      },
      "source": [
        "Test gdrive connection"
      ]
    },
    {
      "cell_type": "code",
      "metadata": {
        "id": "xnm1V1n0SD9y",
        "colab_type": "code",
        "colab": {}
      },
      "source": [
        "!ls '/content/gdrive/My Drive/MODIS/2000'"
      ],
      "execution_count": null,
      "outputs": []
    },
    {
      "cell_type": "code",
      "metadata": {
        "id": "SCwuM4xPRyKd",
        "colab_type": "code",
        "colab": {}
      },
      "source": [
        "!pip install xarray\n",
        "!pip install affine\n",
        "!pip install Rasterio \n",
        "!pip install netcdf4\n",
        "!!pip install geopandas \n"
      ],
      "execution_count": null,
      "outputs": []
    },
    {
      "cell_type": "markdown",
      "metadata": {
        "id": "ME075D6MdcoN",
        "colab_type": "text"
      },
      "source": [
        "Import libraries"
      ]
    },
    {
      "cell_type": "code",
      "metadata": {
        "id": "Wk_4dxFc4RXM",
        "colab_type": "code",
        "colab": {}
      },
      "source": [
        "from affine import Affine\n",
        "import glob\n",
        "import pandas as pd\n",
        "import xarray as xr\n",
        "#import xgeo # Needs to be imported to use geo extension\n",
        "import geopandas as gpd\n",
        "import os"
      ],
      "execution_count": null,
      "outputs": []
    },
    {
      "cell_type": "markdown",
      "metadata": {
        "id": "5AL4-JYkdhsR",
        "colab_type": "text"
      },
      "source": [
        "function to read the date from file names:"
      ]
    },
    {
      "cell_type": "code",
      "metadata": {
        "id": "2KylKEVDsGhb",
        "colab_type": "code",
        "colab": {}
      },
      "source": [
        "\n",
        "\n",
        "def time_index_from_filenames(filenames):\n",
        "    '''helper function to create a pandas DatetimeIndex\n",
        "       Filename example: LST_2002_12_30.tif'''\n",
        "    #return pd.DatetimeIndex([pd.Timestamp(year=f[4:8], month=f[9:11], day=f[12:14], hour=12) for f in filenames])\n",
        "    names = [os.path.basename(x) for x in filenames]\n",
        "    return pd.DatetimeIndex([pd.Timestamp(f[4:8]+f[9:11]+f[12:14]) for f in names])\n",
        "    "
      ],
      "execution_count": null,
      "outputs": []
    },
    {
      "cell_type": "markdown",
      "metadata": {
        "id": "C10yp6qVd4qR",
        "colab_type": "text"
      },
      "source": [
        "Iterate through all LSTcont folders in Google Drive and create 1 NetCDF from each folder (1 file for entire year)"
      ]
    },
    {
      "cell_type": "code",
      "metadata": {
        "id": "IW1XZqow78To",
        "colab_type": "code",
        "colab": {
          "base_uri": "https://localhost:8080/",
          "height": 72
        },
        "outputId": "cdd1eef3-6281-4f67-fc48-565054a0a351"
      },
      "source": [
        "for year in range (2017, 2018):\n",
        "  filenames = sorted(glob.glob('/content/gdrive/My Drive/MODIS/' + str(year) + '/*.tif'))\n",
        "  print(filenames)\n",
        "  time = xr.Variable('time', time_index_from_filenames(filenames))\n",
        "  chunks = {'x': 409, 'y': 603}\n",
        "  da = xr.concat([xr.open_rasterio(f, chunks=chunks) for f in filenames], dim=time)\n",
        "  da.to_netcdf(path='/content/gdrive/My Drive/MODIS/' + str(year) + '.nc', format='NETCDF4', mode='w', encoding={'__xarray_dataarray_variable__': {'dtype': 'float32', 'scale_factor': 0.02}}) \n",
        "  print(year)"
      ],
      "execution_count": null,
      "outputs": [
        {
          "output_type": "stream",
          "text": [
            "['/content/gdrive/My Drive/MODIS/2017/LST_2017_01_01.tif', '/content/gdrive/My Drive/MODIS/2017/LST_2017_01_02.tif', '/content/gdrive/My Drive/MODIS/2017/LST_2017_01_03.tif', '/content/gdrive/My Drive/MODIS/2017/LST_2017_01_04.tif', '/content/gdrive/My Drive/MODIS/2017/LST_2017_01_05.tif', '/content/gdrive/My Drive/MODIS/2017/LST_2017_01_06.tif', '/content/gdrive/My Drive/MODIS/2017/LST_2017_01_07.tif', '/content/gdrive/My Drive/MODIS/2017/LST_2017_01_08.tif', '/content/gdrive/My Drive/MODIS/2017/LST_2017_01_09.tif', '/content/gdrive/My Drive/MODIS/2017/LST_2017_01_10.tif', '/content/gdrive/My Drive/MODIS/2017/LST_2017_01_11.tif', '/content/gdrive/My Drive/MODIS/2017/LST_2017_01_12.tif', '/content/gdrive/My Drive/MODIS/2017/LST_2017_01_13.tif', '/content/gdrive/My Drive/MODIS/2017/LST_2017_01_14.tif', '/content/gdrive/My Drive/MODIS/2017/LST_2017_01_15.tif', '/content/gdrive/My Drive/MODIS/2017/LST_2017_01_16.tif', '/content/gdrive/My Drive/MODIS/2017/LST_2017_01_17.tif', '/content/gdrive/My Drive/MODIS/2017/LST_2017_01_18.tif', '/content/gdrive/My Drive/MODIS/2017/LST_2017_01_19.tif', '/content/gdrive/My Drive/MODIS/2017/LST_2017_01_20.tif', '/content/gdrive/My Drive/MODIS/2017/LST_2017_01_21.tif', '/content/gdrive/My Drive/MODIS/2017/LST_2017_01_22.tif', '/content/gdrive/My Drive/MODIS/2017/LST_2017_01_23.tif', '/content/gdrive/My Drive/MODIS/2017/LST_2017_01_24.tif', '/content/gdrive/My Drive/MODIS/2017/LST_2017_01_25.tif', '/content/gdrive/My Drive/MODIS/2017/LST_2017_01_26.tif', '/content/gdrive/My Drive/MODIS/2017/LST_2017_01_27.tif', '/content/gdrive/My Drive/MODIS/2017/LST_2017_01_28.tif', '/content/gdrive/My Drive/MODIS/2017/LST_2017_01_29.tif', '/content/gdrive/My Drive/MODIS/2017/LST_2017_01_30.tif', '/content/gdrive/My Drive/MODIS/2017/LST_2017_01_31.tif', '/content/gdrive/My Drive/MODIS/2017/LST_2017_02_01.tif', '/content/gdrive/My Drive/MODIS/2017/LST_2017_02_02.tif', '/content/gdrive/My Drive/MODIS/2017/LST_2017_02_03.tif', '/content/gdrive/My Drive/MODIS/2017/LST_2017_02_04.tif', '/content/gdrive/My Drive/MODIS/2017/LST_2017_02_05.tif', '/content/gdrive/My Drive/MODIS/2017/LST_2017_02_06.tif', '/content/gdrive/My Drive/MODIS/2017/LST_2017_02_07.tif', '/content/gdrive/My Drive/MODIS/2017/LST_2017_02_08.tif', '/content/gdrive/My Drive/MODIS/2017/LST_2017_02_09.tif', '/content/gdrive/My Drive/MODIS/2017/LST_2017_02_10.tif', '/content/gdrive/My Drive/MODIS/2017/LST_2017_02_11.tif', '/content/gdrive/My Drive/MODIS/2017/LST_2017_02_12.tif', '/content/gdrive/My Drive/MODIS/2017/LST_2017_02_13.tif', '/content/gdrive/My Drive/MODIS/2017/LST_2017_02_14.tif', '/content/gdrive/My Drive/MODIS/2017/LST_2017_02_15.tif', '/content/gdrive/My Drive/MODIS/2017/LST_2017_02_16.tif', '/content/gdrive/My Drive/MODIS/2017/LST_2017_02_17.tif', '/content/gdrive/My Drive/MODIS/2017/LST_2017_02_18.tif', '/content/gdrive/My Drive/MODIS/2017/LST_2017_02_19.tif', '/content/gdrive/My Drive/MODIS/2017/LST_2017_02_20.tif', '/content/gdrive/My Drive/MODIS/2017/LST_2017_02_21.tif', '/content/gdrive/My Drive/MODIS/2017/LST_2017_02_22.tif', '/content/gdrive/My Drive/MODIS/2017/LST_2017_02_23.tif', '/content/gdrive/My Drive/MODIS/2017/LST_2017_02_24.tif', '/content/gdrive/My Drive/MODIS/2017/LST_2017_02_25.tif', '/content/gdrive/My Drive/MODIS/2017/LST_2017_02_26.tif', '/content/gdrive/My Drive/MODIS/2017/LST_2017_02_27.tif', '/content/gdrive/My Drive/MODIS/2017/LST_2017_02_28.tif', '/content/gdrive/My Drive/MODIS/2017/LST_2017_03_01.tif', '/content/gdrive/My Drive/MODIS/2017/LST_2017_03_02.tif', '/content/gdrive/My Drive/MODIS/2017/LST_2017_03_03.tif', '/content/gdrive/My Drive/MODIS/2017/LST_2017_03_04.tif', '/content/gdrive/My Drive/MODIS/2017/LST_2017_03_05.tif', '/content/gdrive/My Drive/MODIS/2017/LST_2017_03_06.tif', '/content/gdrive/My Drive/MODIS/2017/LST_2017_03_07.tif', '/content/gdrive/My Drive/MODIS/2017/LST_2017_03_08.tif', '/content/gdrive/My Drive/MODIS/2017/LST_2017_03_09.tif', '/content/gdrive/My Drive/MODIS/2017/LST_2017_03_10.tif', '/content/gdrive/My Drive/MODIS/2017/LST_2017_03_11.tif', '/content/gdrive/My Drive/MODIS/2017/LST_2017_03_12.tif', '/content/gdrive/My Drive/MODIS/2017/LST_2017_03_13.tif', '/content/gdrive/My Drive/MODIS/2017/LST_2017_03_14.tif', '/content/gdrive/My Drive/MODIS/2017/LST_2017_03_15.tif', '/content/gdrive/My Drive/MODIS/2017/LST_2017_03_16.tif', '/content/gdrive/My Drive/MODIS/2017/LST_2017_03_17.tif', '/content/gdrive/My Drive/MODIS/2017/LST_2017_03_18.tif', '/content/gdrive/My Drive/MODIS/2017/LST_2017_03_19.tif', '/content/gdrive/My Drive/MODIS/2017/LST_2017_03_20.tif', '/content/gdrive/My Drive/MODIS/2017/LST_2017_03_21.tif', '/content/gdrive/My Drive/MODIS/2017/LST_2017_03_22.tif', '/content/gdrive/My Drive/MODIS/2017/LST_2017_03_23.tif', '/content/gdrive/My Drive/MODIS/2017/LST_2017_03_24.tif', '/content/gdrive/My Drive/MODIS/2017/LST_2017_03_25.tif', '/content/gdrive/My Drive/MODIS/2017/LST_2017_03_26.tif', '/content/gdrive/My Drive/MODIS/2017/LST_2017_03_27.tif', '/content/gdrive/My Drive/MODIS/2017/LST_2017_03_28.tif', '/content/gdrive/My Drive/MODIS/2017/LST_2017_03_29.tif', '/content/gdrive/My Drive/MODIS/2017/LST_2017_03_30.tif', '/content/gdrive/My Drive/MODIS/2017/LST_2017_03_31.tif', '/content/gdrive/My Drive/MODIS/2017/LST_2017_04_01.tif', '/content/gdrive/My Drive/MODIS/2017/LST_2017_04_02.tif', '/content/gdrive/My Drive/MODIS/2017/LST_2017_04_03.tif', '/content/gdrive/My Drive/MODIS/2017/LST_2017_04_04.tif', '/content/gdrive/My Drive/MODIS/2017/LST_2017_04_05.tif', '/content/gdrive/My Drive/MODIS/2017/LST_2017_04_06.tif', '/content/gdrive/My Drive/MODIS/2017/LST_2017_04_07.tif', '/content/gdrive/My Drive/MODIS/2017/LST_2017_04_08.tif', '/content/gdrive/My Drive/MODIS/2017/LST_2017_04_09.tif', '/content/gdrive/My Drive/MODIS/2017/LST_2017_04_10.tif', '/content/gdrive/My Drive/MODIS/2017/LST_2017_04_11.tif', '/content/gdrive/My Drive/MODIS/2017/LST_2017_04_12.tif', '/content/gdrive/My Drive/MODIS/2017/LST_2017_04_13.tif', '/content/gdrive/My Drive/MODIS/2017/LST_2017_04_14.tif', '/content/gdrive/My Drive/MODIS/2017/LST_2017_04_15.tif', '/content/gdrive/My Drive/MODIS/2017/LST_2017_04_16.tif', '/content/gdrive/My Drive/MODIS/2017/LST_2017_04_17.tif', '/content/gdrive/My Drive/MODIS/2017/LST_2017_04_18.tif', '/content/gdrive/My Drive/MODIS/2017/LST_2017_04_19.tif', '/content/gdrive/My Drive/MODIS/2017/LST_2017_04_20.tif', '/content/gdrive/My Drive/MODIS/2017/LST_2017_04_21.tif', '/content/gdrive/My Drive/MODIS/2017/LST_2017_04_22.tif', '/content/gdrive/My Drive/MODIS/2017/LST_2017_04_23.tif', '/content/gdrive/My Drive/MODIS/2017/LST_2017_04_24.tif', '/content/gdrive/My Drive/MODIS/2017/LST_2017_04_25.tif', '/content/gdrive/My Drive/MODIS/2017/LST_2017_04_26.tif', '/content/gdrive/My Drive/MODIS/2017/LST_2017_04_27.tif', '/content/gdrive/My Drive/MODIS/2017/LST_2017_04_28.tif', '/content/gdrive/My Drive/MODIS/2017/LST_2017_04_29.tif', '/content/gdrive/My Drive/MODIS/2017/LST_2017_04_30.tif', '/content/gdrive/My Drive/MODIS/2017/LST_2017_05_01.tif', '/content/gdrive/My Drive/MODIS/2017/LST_2017_05_02.tif', '/content/gdrive/My Drive/MODIS/2017/LST_2017_05_03.tif', '/content/gdrive/My Drive/MODIS/2017/LST_2017_05_04.tif', '/content/gdrive/My Drive/MODIS/2017/LST_2017_05_05.tif', '/content/gdrive/My Drive/MODIS/2017/LST_2017_05_06.tif', '/content/gdrive/My Drive/MODIS/2017/LST_2017_05_07.tif', '/content/gdrive/My Drive/MODIS/2017/LST_2017_05_08.tif', '/content/gdrive/My Drive/MODIS/2017/LST_2017_05_09.tif', '/content/gdrive/My Drive/MODIS/2017/LST_2017_05_10.tif', '/content/gdrive/My Drive/MODIS/2017/LST_2017_05_11.tif', '/content/gdrive/My Drive/MODIS/2017/LST_2017_05_12.tif', '/content/gdrive/My Drive/MODIS/2017/LST_2017_05_13.tif', '/content/gdrive/My Drive/MODIS/2017/LST_2017_05_14.tif', '/content/gdrive/My Drive/MODIS/2017/LST_2017_05_15.tif', '/content/gdrive/My Drive/MODIS/2017/LST_2017_05_16.tif', '/content/gdrive/My Drive/MODIS/2017/LST_2017_05_17.tif', '/content/gdrive/My Drive/MODIS/2017/LST_2017_05_18.tif', '/content/gdrive/My Drive/MODIS/2017/LST_2017_05_19.tif', '/content/gdrive/My Drive/MODIS/2017/LST_2017_05_20.tif', '/content/gdrive/My Drive/MODIS/2017/LST_2017_05_21.tif', '/content/gdrive/My Drive/MODIS/2017/LST_2017_05_22.tif', '/content/gdrive/My Drive/MODIS/2017/LST_2017_05_23.tif', '/content/gdrive/My Drive/MODIS/2017/LST_2017_05_24.tif', '/content/gdrive/My Drive/MODIS/2017/LST_2017_05_25.tif', '/content/gdrive/My Drive/MODIS/2017/LST_2017_05_26.tif', '/content/gdrive/My Drive/MODIS/2017/LST_2017_05_27.tif', '/content/gdrive/My Drive/MODIS/2017/LST_2017_05_28.tif', '/content/gdrive/My Drive/MODIS/2017/LST_2017_05_29.tif', '/content/gdrive/My Drive/MODIS/2017/LST_2017_05_30.tif', '/content/gdrive/My Drive/MODIS/2017/LST_2017_05_31.tif', '/content/gdrive/My Drive/MODIS/2017/LST_2017_06_01.tif', '/content/gdrive/My Drive/MODIS/2017/LST_2017_06_02.tif', '/content/gdrive/My Drive/MODIS/2017/LST_2017_06_03.tif', '/content/gdrive/My Drive/MODIS/2017/LST_2017_06_04.tif', '/content/gdrive/My Drive/MODIS/2017/LST_2017_06_05.tif', '/content/gdrive/My Drive/MODIS/2017/LST_2017_06_06.tif', '/content/gdrive/My Drive/MODIS/2017/LST_2017_06_07.tif', '/content/gdrive/My Drive/MODIS/2017/LST_2017_06_08.tif', '/content/gdrive/My Drive/MODIS/2017/LST_2017_06_09.tif', '/content/gdrive/My Drive/MODIS/2017/LST_2017_06_10.tif', '/content/gdrive/My Drive/MODIS/2017/LST_2017_06_11.tif', '/content/gdrive/My Drive/MODIS/2017/LST_2017_06_12.tif', '/content/gdrive/My Drive/MODIS/2017/LST_2017_06_13.tif', '/content/gdrive/My Drive/MODIS/2017/LST_2017_06_14.tif', '/content/gdrive/My Drive/MODIS/2017/LST_2017_06_15.tif', '/content/gdrive/My Drive/MODIS/2017/LST_2017_06_16.tif', '/content/gdrive/My Drive/MODIS/2017/LST_2017_06_17.tif', '/content/gdrive/My Drive/MODIS/2017/LST_2017_06_18.tif', '/content/gdrive/My Drive/MODIS/2017/LST_2017_06_19.tif', '/content/gdrive/My Drive/MODIS/2017/LST_2017_06_20.tif', '/content/gdrive/My Drive/MODIS/2017/LST_2017_06_21.tif', '/content/gdrive/My Drive/MODIS/2017/LST_2017_06_22.tif', '/content/gdrive/My Drive/MODIS/2017/LST_2017_06_23.tif', '/content/gdrive/My Drive/MODIS/2017/LST_2017_06_24.tif', '/content/gdrive/My Drive/MODIS/2017/LST_2017_06_25.tif', '/content/gdrive/My Drive/MODIS/2017/LST_2017_06_26.tif', '/content/gdrive/My Drive/MODIS/2017/LST_2017_06_27.tif', '/content/gdrive/My Drive/MODIS/2017/LST_2017_06_28.tif', '/content/gdrive/My Drive/MODIS/2017/LST_2017_06_29.tif', '/content/gdrive/My Drive/MODIS/2017/LST_2017_06_30.tif', '/content/gdrive/My Drive/MODIS/2017/LST_2017_07_01.tif', '/content/gdrive/My Drive/MODIS/2017/LST_2017_07_02.tif', '/content/gdrive/My Drive/MODIS/2017/LST_2017_07_03.tif', '/content/gdrive/My Drive/MODIS/2017/LST_2017_07_04.tif', '/content/gdrive/My Drive/MODIS/2017/LST_2017_07_05.tif', '/content/gdrive/My Drive/MODIS/2017/LST_2017_07_06.tif', '/content/gdrive/My Drive/MODIS/2017/LST_2017_07_07.tif', '/content/gdrive/My Drive/MODIS/2017/LST_2017_07_08.tif', '/content/gdrive/My Drive/MODIS/2017/LST_2017_07_09.tif', '/content/gdrive/My Drive/MODIS/2017/LST_2017_07_10.tif', '/content/gdrive/My Drive/MODIS/2017/LST_2017_07_11.tif', '/content/gdrive/My Drive/MODIS/2017/LST_2017_07_12.tif', '/content/gdrive/My Drive/MODIS/2017/LST_2017_07_13.tif', '/content/gdrive/My Drive/MODIS/2017/LST_2017_07_14.tif', '/content/gdrive/My Drive/MODIS/2017/LST_2017_07_15.tif', '/content/gdrive/My Drive/MODIS/2017/LST_2017_07_16.tif', '/content/gdrive/My Drive/MODIS/2017/LST_2017_07_17.tif', '/content/gdrive/My Drive/MODIS/2017/LST_2017_07_18.tif', '/content/gdrive/My Drive/MODIS/2017/LST_2017_07_19.tif', '/content/gdrive/My Drive/MODIS/2017/LST_2017_07_20.tif', '/content/gdrive/My Drive/MODIS/2017/LST_2017_07_21.tif', '/content/gdrive/My Drive/MODIS/2017/LST_2017_07_22.tif', '/content/gdrive/My Drive/MODIS/2017/LST_2017_07_23.tif', '/content/gdrive/My Drive/MODIS/2017/LST_2017_07_24.tif', '/content/gdrive/My Drive/MODIS/2017/LST_2017_07_25.tif', '/content/gdrive/My Drive/MODIS/2017/LST_2017_07_26.tif', '/content/gdrive/My Drive/MODIS/2017/LST_2017_07_27.tif', '/content/gdrive/My Drive/MODIS/2017/LST_2017_07_28.tif', '/content/gdrive/My Drive/MODIS/2017/LST_2017_07_29.tif', '/content/gdrive/My Drive/MODIS/2017/LST_2017_07_30.tif', '/content/gdrive/My Drive/MODIS/2017/LST_2017_07_31.tif', '/content/gdrive/My Drive/MODIS/2017/LST_2017_08_01.tif', '/content/gdrive/My Drive/MODIS/2017/LST_2017_08_02.tif', '/content/gdrive/My Drive/MODIS/2017/LST_2017_08_03.tif', '/content/gdrive/My Drive/MODIS/2017/LST_2017_08_04.tif', '/content/gdrive/My Drive/MODIS/2017/LST_2017_08_05.tif', '/content/gdrive/My Drive/MODIS/2017/LST_2017_08_06.tif', '/content/gdrive/My Drive/MODIS/2017/LST_2017_08_07.tif', '/content/gdrive/My Drive/MODIS/2017/LST_2017_08_08.tif', '/content/gdrive/My Drive/MODIS/2017/LST_2017_08_09.tif', '/content/gdrive/My Drive/MODIS/2017/LST_2017_08_10.tif', '/content/gdrive/My Drive/MODIS/2017/LST_2017_08_11.tif', '/content/gdrive/My Drive/MODIS/2017/LST_2017_08_12.tif', '/content/gdrive/My Drive/MODIS/2017/LST_2017_08_13.tif', '/content/gdrive/My Drive/MODIS/2017/LST_2017_08_14.tif', '/content/gdrive/My Drive/MODIS/2017/LST_2017_08_15.tif', '/content/gdrive/My Drive/MODIS/2017/LST_2017_08_16.tif', '/content/gdrive/My Drive/MODIS/2017/LST_2017_08_17.tif', '/content/gdrive/My Drive/MODIS/2017/LST_2017_08_18.tif', '/content/gdrive/My Drive/MODIS/2017/LST_2017_08_19.tif', '/content/gdrive/My Drive/MODIS/2017/LST_2017_08_20.tif', '/content/gdrive/My Drive/MODIS/2017/LST_2017_08_21.tif', '/content/gdrive/My Drive/MODIS/2017/LST_2017_08_22.tif', '/content/gdrive/My Drive/MODIS/2017/LST_2017_08_23.tif', '/content/gdrive/My Drive/MODIS/2017/LST_2017_08_24.tif', '/content/gdrive/My Drive/MODIS/2017/LST_2017_08_25.tif', '/content/gdrive/My Drive/MODIS/2017/LST_2017_08_26.tif', '/content/gdrive/My Drive/MODIS/2017/LST_2017_08_27.tif', '/content/gdrive/My Drive/MODIS/2017/LST_2017_08_28.tif', '/content/gdrive/My Drive/MODIS/2017/LST_2017_08_29.tif', '/content/gdrive/My Drive/MODIS/2017/LST_2017_08_30.tif', '/content/gdrive/My Drive/MODIS/2017/LST_2017_08_31.tif', '/content/gdrive/My Drive/MODIS/2017/LST_2017_09_01.tif', '/content/gdrive/My Drive/MODIS/2017/LST_2017_09_02.tif', '/content/gdrive/My Drive/MODIS/2017/LST_2017_09_03.tif', '/content/gdrive/My Drive/MODIS/2017/LST_2017_09_04.tif', '/content/gdrive/My Drive/MODIS/2017/LST_2017_09_05.tif', '/content/gdrive/My Drive/MODIS/2017/LST_2017_09_06.tif', '/content/gdrive/My Drive/MODIS/2017/LST_2017_09_07.tif', '/content/gdrive/My Drive/MODIS/2017/LST_2017_09_08.tif', '/content/gdrive/My Drive/MODIS/2017/LST_2017_09_09.tif', '/content/gdrive/My Drive/MODIS/2017/LST_2017_09_10.tif', '/content/gdrive/My Drive/MODIS/2017/LST_2017_09_11.tif', '/content/gdrive/My Drive/MODIS/2017/LST_2017_09_12.tif', '/content/gdrive/My Drive/MODIS/2017/LST_2017_09_13.tif', '/content/gdrive/My Drive/MODIS/2017/LST_2017_09_14.tif', '/content/gdrive/My Drive/MODIS/2017/LST_2017_09_15.tif', '/content/gdrive/My Drive/MODIS/2017/LST_2017_09_16.tif', '/content/gdrive/My Drive/MODIS/2017/LST_2017_09_17.tif', '/content/gdrive/My Drive/MODIS/2017/LST_2017_09_18.tif', '/content/gdrive/My Drive/MODIS/2017/LST_2017_09_19.tif', '/content/gdrive/My Drive/MODIS/2017/LST_2017_09_20.tif', '/content/gdrive/My Drive/MODIS/2017/LST_2017_09_21.tif', '/content/gdrive/My Drive/MODIS/2017/LST_2017_09_22.tif', '/content/gdrive/My Drive/MODIS/2017/LST_2017_09_23.tif', '/content/gdrive/My Drive/MODIS/2017/LST_2017_09_24.tif', '/content/gdrive/My Drive/MODIS/2017/LST_2017_09_25.tif', '/content/gdrive/My Drive/MODIS/2017/LST_2017_09_26.tif', '/content/gdrive/My Drive/MODIS/2017/LST_2017_09_27.tif', '/content/gdrive/My Drive/MODIS/2017/LST_2017_09_28.tif', '/content/gdrive/My Drive/MODIS/2017/LST_2017_09_29.tif', '/content/gdrive/My Drive/MODIS/2017/LST_2017_09_30.tif', '/content/gdrive/My Drive/MODIS/2017/LST_2017_10_01.tif', '/content/gdrive/My Drive/MODIS/2017/LST_2017_10_02.tif', '/content/gdrive/My Drive/MODIS/2017/LST_2017_10_03.tif', '/content/gdrive/My Drive/MODIS/2017/LST_2017_10_04.tif', '/content/gdrive/My Drive/MODIS/2017/LST_2017_10_05.tif', '/content/gdrive/My Drive/MODIS/2017/LST_2017_10_06.tif', '/content/gdrive/My Drive/MODIS/2017/LST_2017_10_07.tif', '/content/gdrive/My Drive/MODIS/2017/LST_2017_10_08.tif', '/content/gdrive/My Drive/MODIS/2017/LST_2017_10_09.tif', '/content/gdrive/My Drive/MODIS/2017/LST_2017_10_10.tif', '/content/gdrive/My Drive/MODIS/2017/LST_2017_10_11.tif', '/content/gdrive/My Drive/MODIS/2017/LST_2017_10_12.tif', '/content/gdrive/My Drive/MODIS/2017/LST_2017_10_13.tif', '/content/gdrive/My Drive/MODIS/2017/LST_2017_10_14.tif', '/content/gdrive/My Drive/MODIS/2017/LST_2017_10_15.tif', '/content/gdrive/My Drive/MODIS/2017/LST_2017_10_16.tif', '/content/gdrive/My Drive/MODIS/2017/LST_2017_10_17.tif', '/content/gdrive/My Drive/MODIS/2017/LST_2017_10_18.tif', '/content/gdrive/My Drive/MODIS/2017/LST_2017_10_19.tif', '/content/gdrive/My Drive/MODIS/2017/LST_2017_10_20.tif', '/content/gdrive/My Drive/MODIS/2017/LST_2017_10_21.tif', '/content/gdrive/My Drive/MODIS/2017/LST_2017_10_22.tif', '/content/gdrive/My Drive/MODIS/2017/LST_2017_10_23.tif', '/content/gdrive/My Drive/MODIS/2017/LST_2017_10_24.tif', '/content/gdrive/My Drive/MODIS/2017/LST_2017_10_25.tif', '/content/gdrive/My Drive/MODIS/2017/LST_2017_10_26.tif', '/content/gdrive/My Drive/MODIS/2017/LST_2017_10_27.tif', '/content/gdrive/My Drive/MODIS/2017/LST_2017_10_28.tif', '/content/gdrive/My Drive/MODIS/2017/LST_2017_10_29.tif', '/content/gdrive/My Drive/MODIS/2017/LST_2017_10_30.tif', '/content/gdrive/My Drive/MODIS/2017/LST_2017_10_31.tif', '/content/gdrive/My Drive/MODIS/2017/LST_2017_11_01.tif', '/content/gdrive/My Drive/MODIS/2017/LST_2017_11_02.tif', '/content/gdrive/My Drive/MODIS/2017/LST_2017_11_03.tif', '/content/gdrive/My Drive/MODIS/2017/LST_2017_11_04.tif', '/content/gdrive/My Drive/MODIS/2017/LST_2017_11_05.tif', '/content/gdrive/My Drive/MODIS/2017/LST_2017_11_06.tif', '/content/gdrive/My Drive/MODIS/2017/LST_2017_11_07.tif', '/content/gdrive/My Drive/MODIS/2017/LST_2017_11_08.tif', '/content/gdrive/My Drive/MODIS/2017/LST_2017_11_09.tif', '/content/gdrive/My Drive/MODIS/2017/LST_2017_11_10.tif', '/content/gdrive/My Drive/MODIS/2017/LST_2017_11_11.tif', '/content/gdrive/My Drive/MODIS/2017/LST_2017_11_12.tif', '/content/gdrive/My Drive/MODIS/2017/LST_2017_11_13.tif', '/content/gdrive/My Drive/MODIS/2017/LST_2017_11_14.tif', '/content/gdrive/My Drive/MODIS/2017/LST_2017_11_15.tif', '/content/gdrive/My Drive/MODIS/2017/LST_2017_11_16.tif', '/content/gdrive/My Drive/MODIS/2017/LST_2017_11_17.tif', '/content/gdrive/My Drive/MODIS/2017/LST_2017_11_18.tif', '/content/gdrive/My Drive/MODIS/2017/LST_2017_11_19.tif', '/content/gdrive/My Drive/MODIS/2017/LST_2017_11_20.tif', '/content/gdrive/My Drive/MODIS/2017/LST_2017_11_21.tif', '/content/gdrive/My Drive/MODIS/2017/LST_2017_11_22.tif', '/content/gdrive/My Drive/MODIS/2017/LST_2017_11_23.tif', '/content/gdrive/My Drive/MODIS/2017/LST_2017_11_24.tif', '/content/gdrive/My Drive/MODIS/2017/LST_2017_11_25.tif', '/content/gdrive/My Drive/MODIS/2017/LST_2017_11_26.tif', '/content/gdrive/My Drive/MODIS/2017/LST_2017_11_27.tif', '/content/gdrive/My Drive/MODIS/2017/LST_2017_11_28.tif', '/content/gdrive/My Drive/MODIS/2017/LST_2017_11_29.tif', '/content/gdrive/My Drive/MODIS/2017/LST_2017_11_30.tif', '/content/gdrive/My Drive/MODIS/2017/LST_2017_12_01.tif', '/content/gdrive/My Drive/MODIS/2017/LST_2017_12_02.tif', '/content/gdrive/My Drive/MODIS/2017/LST_2017_12_03.tif', '/content/gdrive/My Drive/MODIS/2017/LST_2017_12_04.tif', '/content/gdrive/My Drive/MODIS/2017/LST_2017_12_05.tif', '/content/gdrive/My Drive/MODIS/2017/LST_2017_12_06.tif', '/content/gdrive/My Drive/MODIS/2017/LST_2017_12_07.tif', '/content/gdrive/My Drive/MODIS/2017/LST_2017_12_08.tif', '/content/gdrive/My Drive/MODIS/2017/LST_2017_12_09.tif', '/content/gdrive/My Drive/MODIS/2017/LST_2017_12_10.tif', '/content/gdrive/My Drive/MODIS/2017/LST_2017_12_11.tif', '/content/gdrive/My Drive/MODIS/2017/LST_2017_12_12.tif', '/content/gdrive/My Drive/MODIS/2017/LST_2017_12_13.tif', '/content/gdrive/My Drive/MODIS/2017/LST_2017_12_14.tif', '/content/gdrive/My Drive/MODIS/2017/LST_2017_12_15.tif', '/content/gdrive/My Drive/MODIS/2017/LST_2017_12_16.tif', '/content/gdrive/My Drive/MODIS/2017/LST_2017_12_17.tif', '/content/gdrive/My Drive/MODIS/2017/LST_2017_12_18.tif', '/content/gdrive/My Drive/MODIS/2017/LST_2017_12_19.tif', '/content/gdrive/My Drive/MODIS/2017/LST_2017_12_20.tif', '/content/gdrive/My Drive/MODIS/2017/LST_2017_12_21.tif', '/content/gdrive/My Drive/MODIS/2017/LST_2017_12_22.tif', '/content/gdrive/My Drive/MODIS/2017/LST_2017_12_23.tif', '/content/gdrive/My Drive/MODIS/2017/LST_2017_12_24.tif', '/content/gdrive/My Drive/MODIS/2017/LST_2017_12_25.tif', '/content/gdrive/My Drive/MODIS/2017/LST_2017_12_26.tif', '/content/gdrive/My Drive/MODIS/2017/LST_2017_12_27.tif', '/content/gdrive/My Drive/MODIS/2017/LST_2017_12_28.tif', '/content/gdrive/My Drive/MODIS/2017/LST_2017_12_29.tif', '/content/gdrive/My Drive/MODIS/2017/LST_2017_12_30.tif', '/content/gdrive/My Drive/MODIS/2017/LST_2017_12_31.tif']\n",
            "2017\n"
          ],
          "name": "stdout"
        }
      ]
    },
    {
      "cell_type": "markdown",
      "metadata": {
        "id": "l21bfmp1ekey",
        "colab_type": "text"
      },
      "source": [
        "# Convert tiff to NetCDF using [gdal_translate](https://gdal.org/programs/gdal_translate.html#gdal-translate):"
      ]
    },
    {
      "cell_type": "code",
      "metadata": {
        "colab_type": "code",
        "id": "dGpgXNxqfiSp",
        "colab": {}
      },
      "source": [
        "from google.colab import drive\n",
        "drive.mount('/content/gdrive')"
      ],
      "execution_count": null,
      "outputs": []
    },
    {
      "cell_type": "code",
      "metadata": {
        "colab_type": "code",
        "id": "5S6Hcb6tf-nf",
        "colab": {}
      },
      "source": [
        "import gdal"
      ],
      "execution_count": null,
      "outputs": []
    },
    {
      "cell_type": "code",
      "metadata": {
        "id": "9YUQfONsWksb",
        "colab_type": "code",
        "colab": {}
      },
      "source": [
        "filename = '/content/gdrive/My Drive/MODIS/LSTconst_validation_full.tif'\n",
        "da = gdal.Open(filename)\n",
        "out_ds = gdal.Translate('/content/gdrive/My Drive/MODIS/LSTconst_validation.nc', da, options= \"bandList=[1,2,3] format='NC4'\")\n",
        "print(da.RasterCount)\n",
        "print(out_ds)"
      ],
      "execution_count": null,
      "outputs": []
    }
  ]
}